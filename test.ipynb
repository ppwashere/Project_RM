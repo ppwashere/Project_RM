{
 "cells": [
  {
   "attachments": {},
   "cell_type": "markdown",
   "metadata": {},
   "source": [
    "Image Processing By using Image Segmentation"
   ]
  },
  {
   "cell_type": "code",
   "execution_count": 2,
   "metadata": {},
   "outputs": [],
   "source": [
    "import cv2\n",
    "import numpy as np\n",
    "import pandas as pd\n",
    "\n",
    "def detect(img):\n",
    "    \n",
    "   # Load image\n",
    "   img = cv2.imread(img)\n",
    "   img = cv2.resize(img, (400, 300))\n",
    "\n",
    "   # Convert the image to YCbCr color space\n",
    "   ycbcr_img = cv2.cvtColor(img, cv2.COLOR_BGR2YCrCb)\n",
    "\n",
    "   # Threshold the YCbCr image to segment the human skin\n",
    "   lower_skin = np.array([0, 135, 85])\n",
    "   upper_skin = np.array([255, 180, 135])\n",
    "   mask = cv2.inRange(ycbcr_img, lower_skin, upper_skin)\n",
    "\n",
    "   # Apply some morphological operations to clean up the segmentation result\n",
    "   kernel = np.ones((5,5), np.uint8)\n",
    "   mask = cv2.erode(mask, kernel, iterations=1)\n",
    "   mask = cv2.dilate(mask, kernel, iterations=1)\n",
    "\n",
    "   # Use the segmented image as a mask to extract the human skin pixels\n",
    "   skin = cv2.bitwise_and(img, img, mask=mask)\n",
    "\n",
    "   # Display the result\n",
    "   cv2.imshow(\"YCrCb\", mask)\n",
    "   cv2.imshow(\"Original Image\", img )\n",
    "   cv2.imshow(\"Skin Detection\", skin)\n",
    "   cv2.waitKey(0)\n",
    "   cv2.destroyAllWindows()\n",
    "    \n",
    "   return cv2.imwrite('detected_skin.jpg', skin)\n",
    "   \n",
    "    \n",
    "    \n"
   ]
  },
  {
   "attachments": {},
   "cell_type": "markdown",
   "metadata": {},
   "source": [
    "Get Scale from dectected image (Ignore black color pixel)"
   ]
  },
  {
   "cell_type": "code",
   "execution_count": 64,
   "metadata": {},
   "outputs": [],
   "source": [
    "from PIL import Image\n",
    "import numpy as np\n",
    "from sklearn.cluster import KMeans\n",
    "\n",
    "def scale1(image):\n",
    " \n",
    "     # Load the image\n",
    "    image = Image.open(image)\n",
    "\n",
    "    # Convert the image to a numpy array\n",
    "    img_array = np.array(image)\n",
    "\n",
    "    # Get the non-black pixels\n",
    "    non_black_pixels = img_array[np.any(img_array != [0, 0, 0], axis=-1)]\n",
    "\n",
    "    # Define the number of clusters (i.e., dominant colors) to find\n",
    "    n_clusters = 3\n",
    "\n",
    "    # Initialize the k-means model with a random state\n",
    "    kmeans = KMeans(n_clusters=n_clusters, random_state=42)\n",
    "\n",
    "    # Fit the model to the pixel data\n",
    "    kmeans.fit(non_black_pixels)\n",
    "\n",
    "    # Get the dominant colors from the model\n",
    "    dominant_colors = kmeans.cluster_centers_\n",
    "\n",
    "    # Convert the colors to integers\n",
    "    dominant_colors = dominant_colors.astype(int)\n",
    "\n",
    "    # Create a new image for the scale\n",
    "    scale_width = 100\n",
    "    scale_height = 100\n",
    "    scale_color = tuple(dominant_colors[0])\n",
    "\n",
    "    # Set the scale color to the most dominant color\n",
    "    scale_image = Image.new('RGB', (scale_width, scale_height), color=scale_color)\n",
    "\n",
    "\n",
    "    # Show the scale image\n",
    "    scale_image.show()\n",
    "\n",
    "    return scale_image.save('scale_image.jpg')"
   ]
  },
  {
   "cell_type": "code",
   "execution_count": 5,
   "metadata": {},
   "outputs": [],
   "source": [
    "'''\n",
    "from PIL import Image\n",
    "\n",
    "def scale(image):\n",
    " \n",
    "    image = Image.open(image)\n",
    "\n",
    "    # Get the image dimensions\n",
    "    width, height = image.size\n",
    "\n",
    "    # Initialize the color sum and pixel count\n",
    "    color_sum = [0, 0, 0]\n",
    "    pixel_count = 0\n",
    "\n",
    "    # Loop over all pixels in the image\n",
    "    for x in range(width):\n",
    "        for y in range(height):\n",
    "            # Get the pixel color\n",
    "            color = image.getpixel((x, y))\n",
    "            \n",
    "            # Check if the pixel is not black = 0 0 0\n",
    "            if color != (0, 0, 0):\n",
    "                # Add the color to the sum and increment the pixel count\n",
    "                color_sum[0] += color[0]\n",
    "                color_sum[1] += color[1]\n",
    "                color_sum[2] += color[2]\n",
    "                pixel_count += 1\n",
    "\n",
    "    # คำนวณค่าเฉลี่ยของสี\n",
    "    if pixel_count > 0:\n",
    "        average_color = tuple(int(sum_color/pixel_count) for sum_color in color_sum)\n",
    "    else:\n",
    "        average_color = (0, 0, 0)\n",
    "\n",
    "    # กำหนดไซต์\n",
    "    scale_width = 300\n",
    "    scale_height = 300\n",
    "    scale_color = average_color\n",
    "\n",
    "    # Create a new image for the scale\n",
    "    scale_image = Image.new('RGB', (scale_width, scale_height), color=scale_color)\n",
    "\n",
    "    # Save the scale image to a file\n",
    "    scale_image.show()\n",
    "    return  scale_image.save('scale_image.png')\n",
    " '''\n"
   ]
  },
  {
   "attachments": {},
   "cell_type": "markdown",
   "metadata": {},
   "source": [
    "Get RGB Value From Skin Scale "
   ]
  },
  {
   "attachments": {},
   "cell_type": "markdown",
   "metadata": {},
   "source": [
    "https://www.researchgate.net/figure/RGB-values-for-different-human-skin-color-tones_fig3_310443424?fbclid=IwAR21ACMNrM6Z6GIjin5eYzisQK2lGZ206vh-5EGnxaxVHGz7ggpHlJgGHdQ"
   ]
  },
  {
   "cell_type": "code",
   "execution_count": 5,
   "metadata": {},
   "outputs": [],
   "source": [
    "\n",
    "def getRGB(img):\n",
    "    # Load the image\n",
    "    img = Image.open(img)\n",
    "\n",
    "    # Convert the image to RGB mode\n",
    "    img = img.convert('RGB')\n",
    "\n",
    "    # Get the RGB values of all pixels in the image\n",
    "    rgb_values = []\n",
    "    for y in range(img.height):\n",
    "        for x in range(img.width):\n",
    "            r, g, b = img.getpixel((x, y))\n",
    "            rgb_values.append((r, g, b))\n",
    "\n",
    "   \n",
    "\n",
    "    return rgb_values[0]\n"
   ]
  },
  {
   "attachments": {},
   "cell_type": "markdown",
   "metadata": {},
   "source": [
    "Classify data by using K-Neighbors Model"
   ]
  },
  {
   "cell_type": "code",
   "execution_count": 6,
   "metadata": {},
   "outputs": [
    {
     "data": {
      "text/html": [
       "<div>\n",
       "<style scoped>\n",
       "    .dataframe tbody tr th:only-of-type {\n",
       "        vertical-align: middle;\n",
       "    }\n",
       "\n",
       "    .dataframe tbody tr th {\n",
       "        vertical-align: top;\n",
       "    }\n",
       "\n",
       "    .dataframe thead th {\n",
       "        text-align: right;\n",
       "    }\n",
       "</style>\n",
       "<table border=\"1\" class=\"dataframe\">\n",
       "  <thead>\n",
       "    <tr style=\"text-align: right;\">\n",
       "      <th></th>\n",
       "      <th>ImageID</th>\n",
       "      <th>r</th>\n",
       "      <th>g</th>\n",
       "      <th>b</th>\n",
       "      <th>Target</th>\n",
       "    </tr>\n",
       "  </thead>\n",
       "  <tbody>\n",
       "    <tr>\n",
       "      <th>0</th>\n",
       "      <td>1</td>\n",
       "      <td>140</td>\n",
       "      <td>113</td>\n",
       "      <td>96</td>\n",
       "      <td>Dark</td>\n",
       "    </tr>\n",
       "    <tr>\n",
       "      <th>1</th>\n",
       "      <td>2</td>\n",
       "      <td>215</td>\n",
       "      <td>189</td>\n",
       "      <td>176</td>\n",
       "      <td>Light</td>\n",
       "    </tr>\n",
       "    <tr>\n",
       "      <th>2</th>\n",
       "      <td>3</td>\n",
       "      <td>127</td>\n",
       "      <td>80</td>\n",
       "      <td>62</td>\n",
       "      <td>Dark</td>\n",
       "    </tr>\n",
       "    <tr>\n",
       "      <th>3</th>\n",
       "      <td>4</td>\n",
       "      <td>178</td>\n",
       "      <td>156</td>\n",
       "      <td>143</td>\n",
       "      <td>Nature</td>\n",
       "    </tr>\n",
       "    <tr>\n",
       "      <th>4</th>\n",
       "      <td>5</td>\n",
       "      <td>192</td>\n",
       "      <td>160</td>\n",
       "      <td>147</td>\n",
       "      <td>Light</td>\n",
       "    </tr>\n",
       "    <tr>\n",
       "      <th>5</th>\n",
       "      <td>6</td>\n",
       "      <td>181</td>\n",
       "      <td>149</td>\n",
       "      <td>128</td>\n",
       "      <td>Nature</td>\n",
       "    </tr>\n",
       "    <tr>\n",
       "      <th>6</th>\n",
       "      <td>7</td>\n",
       "      <td>154</td>\n",
       "      <td>125</td>\n",
       "      <td>129</td>\n",
       "      <td>Nature</td>\n",
       "    </tr>\n",
       "    <tr>\n",
       "      <th>7</th>\n",
       "      <td>8</td>\n",
       "      <td>114</td>\n",
       "      <td>97</td>\n",
       "      <td>89</td>\n",
       "      <td>Dark</td>\n",
       "    </tr>\n",
       "    <tr>\n",
       "      <th>8</th>\n",
       "      <td>9</td>\n",
       "      <td>186</td>\n",
       "      <td>153</td>\n",
       "      <td>138</td>\n",
       "      <td>Nature</td>\n",
       "    </tr>\n",
       "    <tr>\n",
       "      <th>9</th>\n",
       "      <td>10</td>\n",
       "      <td>173</td>\n",
       "      <td>153</td>\n",
       "      <td>142</td>\n",
       "      <td>Nature</td>\n",
       "    </tr>\n",
       "  </tbody>\n",
       "</table>\n",
       "</div>"
      ],
      "text/plain": [
       "   ImageID    r    g    b  Target\n",
       "0        1  140  113   96    Dark\n",
       "1        2  215  189  176   Light\n",
       "2        3  127   80   62    Dark\n",
       "3        4  178  156  143  Nature\n",
       "4        5  192  160  147   Light\n",
       "5        6  181  149  128  Nature\n",
       "6        7  154  125  129  Nature\n",
       "7        8  114   97   89    Dark\n",
       "8        9  186  153  138  Nature\n",
       "9       10  173  153  142  Nature"
      ]
     },
     "execution_count": 6,
     "metadata": {},
     "output_type": "execute_result"
    }
   ],
   "source": [
    "import pandas as pd\n",
    "from sklearn.model_selection import train_test_split\n",
    "from sklearn.neighbors import KNeighborsClassifier\n",
    "from sklearn.metrics import classification_report\n",
    "import matplotlib.pyplot as plt\n",
    "from mpl_toolkits.mplot3d import Axes3D\n",
    "\n",
    "# Load the dataset \n",
    "df = pd.read_csv('skindata.csv')\n",
    "\n",
    "df.head(10)\n"
   ]
  },
  {
   "cell_type": "code",
   "execution_count": 37,
   "metadata": {},
   "outputs": [
    {
     "data": {
      "image/png": "[encoded data removed]",
      "text/plain": [
       "<Figure size 640x480 with 1 Axes>"
      ]
     },
     "metadata": {},
     "output_type": "display_data"
    }
   ],
   "source": [
    "# Create a 3D scatter plot\n",
    "colors = {'Dark': 'black', 'Light': 'yellow', 'Nature': 'blue'}\n",
    "fig = plt.figure()\n",
    "ax = fig.add_subplot(111, projection='3d')\n",
    "for target, color in colors.items():\n",
    "    ax.scatter(df[df['Target'] == target]['r'], \n",
    "               df[df['Target'] == target]['g'], \n",
    "               df[df['Target'] == target]['b'], \n",
    "               c=color, \n",
    "               label=target)\n",
    "ax.set_xlabel('r')\n",
    "ax.set_ylabel('g')\n",
    "ax.set_zlabel('b')\n",
    "ax.legend()\n",
    "plt.show()"
   ]
  },
  {
   "cell_type": "code",
   "execution_count": 41,
   "metadata": {},
   "outputs": [
    {
     "name": "stdout",
     "output_type": "stream",
     "text": [
      "              precision    recall  f1-score   support\n",
      "\n",
      "        Dark       1.00      1.00      1.00         1\n",
      "       Light       1.00      0.00      0.00         1\n",
      "      Nature       0.75      1.00      0.86         3\n",
      "\n",
      "    accuracy                           0.80         5\n",
      "   macro avg       0.92      0.67      0.62         5\n",
      "weighted avg       0.85      0.80      0.71         5\n",
      "\n"
     ]
    }
   ],
   "source": [
    "x = df[['r', 'g', 'b']]\n",
    "y = df['Target']\n",
    "\n",
    "# Split \n",
    "X_train, X_test, y_train, y_test = train_test_split(x, y, test_size=0.3)\n",
    "\n",
    "# Create a KNeighborsClassifier \n",
    "knn = KNeighborsClassifier(n_neighbors=3)\n",
    "\n",
    "# Train \n",
    "knn.fit(X_train, y_train)\n",
    "\n",
    "# predictions \n",
    "y_pred = knn.predict(X_test)\n",
    "\n",
    "# classification report\n",
    "print(classification_report(y_test, y_pred,zero_division=1))\n"
   ]
  },
  {
   "cell_type": "code",
   "execution_count": 72,
   "metadata": {},
   "outputs": [
    {
     "name": "stderr",
     "output_type": "stream",
     "text": [
      "c:\\Users\\WINDOWS10\\AppData\\Local\\Programs\\Python\\Python310\\lib\\site-packages\\sklearn\\cluster\\_kmeans.py:870: FutureWarning: The default value of `n_init` will change from 10 to 'auto' in 1.4. Set the value of `n_init` explicitly to suppress the warning\n",
      "  warnings.warn(\n"
     ]
    },
    {
     "data": {
      "text/plain": [
       "(214, 176, 153)"
      ]
     },
     "execution_count": 72,
     "metadata": {},
     "output_type": "execute_result"
    }
   ],
   "source": [
    "detect('dataset/1.jpg')\n",
    "scale1('detected_skin.jpg')\n",
    "getRGB('scale_image.jpg')"
   ]
  },
  {
   "cell_type": "code",
   "execution_count": 73,
   "metadata": {},
   "outputs": [
    {
     "name": "stdout",
     "output_type": "stream",
     "text": [
      "['Light']\n"
     ]
    },
    {
     "name": "stderr",
     "output_type": "stream",
     "text": [
      "c:\\Users\\WINDOWS10\\AppData\\Local\\Programs\\Python\\Python310\\lib\\site-packages\\sklearn\\base.py:420: UserWarning: X does not have valid feature names, but KNeighborsClassifier was fitted with feature names\n",
      "  warnings.warn(\n"
     ]
    }
   ],
   "source": [
    "rgb_values = getRGB('scale_image.jpg')\n",
    "skin1 = [[rgb_values[0], rgb_values[1], rgb_values[2]]] # Converto to a list\n",
    "predict_skintone = knn.predict(skin1)\n",
    "print(predict_skintone)"
   ]
  }
 ],
 "metadata": {
  "kernelspec": {
   "display_name": "Python 3",
   "language": "python",
   "name": "python3"
  },
  "language_info": {
   "codemirror_mode": {
    "name": "ipython",
    "version": 3
   },
   "file_extension": ".py",
   "mimetype": "text/x-python",
   "name": "python",
   "nbconvert_exporter": "python",
   "pygments_lexer": "ipython3",
   "version": "3.10.2"
  },
  "orig_nbformat": 4,
  "vscode": {
   "interpreter": {
    "hash": "33b890e8a1d685ec0deb5117e6af084b0fa1942123f4b83c20662e2eded55439"
   }
  }
 },
 "nbformat": 4,
 "nbformat_minor": 2
}
