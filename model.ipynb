{
 "cells": [
  {
   "cell_type": "code",
   "execution_count": 3,
   "metadata": {},
   "outputs": [
    {
     "name": "stdout",
     "output_type": "stream",
     "text": [
      "Validation accuracy: 1.0, precision: 1.0, recall: 1.0, F1-score: 1.0\n"
     ]
    },
    {
     "data": {
      "text/plain": [
       "['svm_model.pkl']"
      ]
     },
     "execution_count": 3,
     "metadata": {},
     "output_type": "execute_result"
    }
   ],
   "source": [
    "import pandas as pd\n",
    "from sklearn import svm\n",
    "from sklearn.metrics import accuracy_score, precision_score, recall_score, f1_score\n",
    "import joblib\n",
    "\n",
    "# Load the data file\n",
    "data = pd.read_csv('data.csv')\n",
    "\n",
    "# Extract the features and labels from the data\n",
    "X = data.drop(['filename', 'label'], axis=1)\n",
    "y = data['label']\n",
    "\n",
    "# Split the data into training, validation, and test sets\n",
    "train_size = int(len(data) * 0.6)\n",
    "valid_size = int(len(data) * 0.2)\n",
    "test_size = len(data) - train_size - valid_size\n",
    "X_train = X[:train_size]\n",
    "y_train = y[:train_size]\n",
    "X_valid = X[train_size:train_size+valid_size]\n",
    "y_valid = y[train_size:train_size+valid_size]\n",
    "X_test = X[-test_size:]\n",
    "y_test = y[-test_size:]\n",
    "\n",
    "# Train an SVM classifier\n",
    "clf = svm.SVC(kernel='linear')\n",
    "clf.fit(X_train, y_train)\n",
    "\n",
    "# Make predictions on the validation set\n",
    "y_pred = clf.predict(X_valid)\n",
    "\n",
    "# Calculate the evaluation metrics on the validation set\n",
    "acc = accuracy_score(y_valid, y_pred)\n",
    "prec = precision_score(y_valid, y_pred, average='macro')\n",
    "rec = recall_score(y_valid, y_pred, average='macro')\n",
    "f1 = f1_score(y_valid, y_pred, average='macro')\n",
    "\n",
    "# Print the evaluation metrics\n",
    "print(f\"Validation accuracy: {acc}, precision: {prec}, recall: {rec}, F1-score: {f1}\")\n",
    "\n",
    "joblib.dump(clf, 'svm_model.pkl')\n"
   ]
  }
 ],
 "metadata": {
  "kernelspec": {
   "display_name": "Python 3",
   "language": "python",
   "name": "python3"
  },
  "language_info": {
   "codemirror_mode": {
    "name": "ipython",
    "version": 3
   },
   "file_extension": ".py",
   "mimetype": "text/x-python",
   "name": "python",
   "nbconvert_exporter": "python",
   "pygments_lexer": "ipython3",
   "version": "3.10.5"
  },
  "orig_nbformat": 4
 },
 "nbformat": 4,
 "nbformat_minor": 2
}
